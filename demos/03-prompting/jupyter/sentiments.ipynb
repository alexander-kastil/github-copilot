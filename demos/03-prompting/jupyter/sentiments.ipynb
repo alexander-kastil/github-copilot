{
 "cells": [
  {
   "cell_type": "markdown",
   "metadata": {},
   "source": [
    "# Import Required Libraries\n",
    "Import the necessary libraries, including pandas for data manipulation, matplotlib for plotting, and TextBlob for sentiment analysis."
   ]
  },
  {
   "cell_type": "code",
   "execution_count": 4,
   "metadata": {},
   "outputs": [
    {
     "ename": "ModuleNotFoundError",
     "evalue": "No module named 'pandas'",
     "output_type": "error",
     "traceback": [
      "\u001b[1;31m---------------------------------------------------------------------------\u001b[0m",
      "\u001b[1;31mModuleNotFoundError\u001b[0m                       Traceback (most recent call last)",
      "Cell \u001b[1;32mIn[4], line 2\u001b[0m\n\u001b[0;32m      1\u001b[0m \u001b[38;5;66;03m# Importing necessary libraries\u001b[39;00m\n\u001b[1;32m----> 2\u001b[0m \u001b[38;5;28;01mimport\u001b[39;00m \u001b[38;5;21;01mpandas\u001b[39;00m\n\u001b[0;32m      3\u001b[0m \u001b[38;5;28;01mfrom\u001b[39;00m \u001b[38;5;21;01mtextblob\u001b[39;00m \u001b[38;5;28;01mimport\u001b[39;00m TextBlob\n\u001b[0;32m      4\u001b[0m \u001b[38;5;28;01mimport\u001b[39;00m \u001b[38;5;21;01mmatplotlib\u001b[39;00m\u001b[38;5;21;01m.\u001b[39;00m\u001b[38;5;21;01mpyplot\u001b[39;00m \u001b[38;5;28;01mas\u001b[39;00m \u001b[38;5;21;01mplt\u001b[39;00m\n",
      "\u001b[1;31mModuleNotFoundError\u001b[0m: No module named 'pandas'"
     ]
    }
   ],
   "source": [
    "# Importing necessary libraries\n",
    "import pandas as pd\n",
    "from textblob import TextBlob\n",
    "import matplotlib.pyplot as plt"
   ]
  },
  {
   "cell_type": "markdown",
   "metadata": {},
   "source": [
    "# Define Statements\n",
    "Define the 6 statements that will be analyzed."
   ]
  },
  {
   "cell_type": "code",
   "execution_count": null,
   "metadata": {},
   "outputs": [],
   "source": [
    "# Define Statements\n",
    "statements = [\n",
    "    \"I love this product!\",\n",
    "    \"This is the worst thing I've ever bought.\",\n",
    "    \"I'm so happy with this purchase.\",\n",
    "    \"I regret buying this.\",\n",
    "    \"This product is amazing!\",\n",
    "    \"I wouldn't recommend this to anyone.\"\n",
    "]"
   ]
  },
  {
   "cell_type": "markdown",
   "metadata": {},
   "source": [
    "# Perform Sentiment Analysis\n",
    "Use TextBlob to perform sentiment analysis on each statement, generating a sentiment polarity score."
   ]
  },
  {
   "cell_type": "code",
   "execution_count": null,
   "metadata": {},
   "outputs": [],
   "source": [
    "# Create a DataFrame from the statements\n",
    "df = pd.DataFrame(statements, columns=['Statement'])\n",
    "\n",
    "# Perform sentiment analysis on each statement\n",
    "df['Polarity'] = df['Statement'].apply(lambda x: TextBlob(x).sentiment.polarity)\n",
    "\n",
    "# Display the DataFrame\n",
    "print(df)\n",
    "\n",
    "# Plot a bar chart of the sentiment scores\n",
    "plt.bar(df.index, df['Polarity'])\n",
    "plt.xlabel('Statement Index')\n",
    "plt.ylabel('Sentiment Polarity')\n",
    "plt.title('Sentiment Analysis of Statements')\n",
    "plt.show()"
   ]
  },
  {
   "cell_type": "markdown",
   "metadata": {},
   "source": [
    "# Add Sentiment Scores to DataFrame\n",
    "Create a pandas DataFrame to hold the statements and their corresponding sentiment scores."
   ]
  },
  {
   "cell_type": "code",
   "execution_count": null,
   "metadata": {},
   "outputs": [],
   "source": [
    "# Add sentiment scores to the DataFrame\n",
    "df['Sentiment_Score'] = df['Statement'].apply(lambda statement: TextBlob(statement).sentiment.polarity)\n",
    "\n",
    "# Print the updated DataFrame\n",
    "print(df)"
   ]
  },
  {
   "cell_type": "markdown",
   "metadata": {},
   "source": [
    "# Plot Sentiment Scores\n",
    "Use matplotlib to plot the sentiment scores."
   ]
  },
  {
   "cell_type": "code",
   "execution_count": null,
   "metadata": {},
   "outputs": [],
   "source": [
    "# Plotting the sentiment scores\n",
    "plt.figure(figsize=(10,6)) # Set the figure size\n",
    "plt.bar(df.index, df['Sentiment_Score'], color='skyblue') # Plot a bar chart of the sentiment scores\n",
    "plt.xlabel('Statement Index') # Set the x-label\n",
    "plt.ylabel('Sentiment Score') # Set the y-label\n",
    "plt.title('Sentiment Analysis of Statements') # Set the title\n",
    "plt.xticks(df.index) # Set the x-ticks to be the indices of the DataFrame\n",
    "plt.grid(True) # Add a grid for better readability\n",
    "plt.show() # Display the plot"
   ]
  }
 ],
 "metadata": {
  "kernelspec": {
   "display_name": "Python 3",
   "language": "python",
   "name": "python3"
  },
  "language_info": {
   "codemirror_mode": {
    "name": "ipython",
    "version": 3
   },
   "file_extension": ".py",
   "mimetype": "text/x-python",
   "name": "python",
   "nbconvert_exporter": "python",
   "pygments_lexer": "ipython3",
   "version": "3.11.0"
  }
 },
 "nbformat": 4,
 "nbformat_minor": 2
}
